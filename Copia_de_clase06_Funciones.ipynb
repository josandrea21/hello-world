{
  "nbformat": 4,
  "nbformat_minor": 0,
  "metadata": {
    "colab": {
      "name": "Copia de clase06_Funciones.ipynb",
      "provenance": [],
      "collapsed_sections": [],
      "include_colab_link": true
    },
    "kernelspec": {
      "name": "python3",
      "display_name": "Python 3"
    }
  },
  "cells": [
    {
      "cell_type": "markdown",
      "metadata": {
        "id": "view-in-github",
        "colab_type": "text"
      },
      "source": [
        "<a href=\"https://colab.research.google.com/github/josandrea21/hello-world/blob/master/Copia_de_clase06_Funciones.ipynb\" target=\"_parent\"><img src=\"https://colab.research.google.com/assets/colab-badge.svg\" alt=\"Open In Colab\"/></a>"
      ]
    },
    {
      "cell_type": "markdown",
      "metadata": {
        "id": "3mnoXSdTr_Oa",
        "colab_type": "text"
      },
      "source": [
        "# Clase 06\n",
        "# Funciones"
      ]
    },
    {
      "cell_type": "markdown",
      "metadata": {
        "id": "uGIvBamPsYiH",
        "colab_type": "text"
      },
      "source": [
        "Esta semana nos centraremos en tomar decisiones y repetir tareas en Python. Ambos conceptos forman parte de la idea computacional más grande llamada **flujo de control** , que se refiere a cómo se determina la ejecución de diferentes partes de un programa de computadora. \n",
        "\n",
        "En Python, el término función tiene un significado más que sólo una función matemática. Una función es una colección de sentencias que puede ejecutarse una y otra vez. Este abstracción obedece a la filosofía de reutilizar código en diferentes programas. \n",
        "\n",
        "Puede enviar variables a la función para influir en lo que está siendo calculado por las instrucciones en la función, y la función puede devolverle objetos nuevos. Las funciones también se utilizan a menudo para dividir un programa largo en piezas más pequeñas y manejables, por lo que el programa y su propio pensamiento sobre él se vuelven más claros. \n",
        "\n",
        "Python viene con un amplio conjunto de funciones **(math, range, len, find, replace, split, join, os, sys,...etc).**\n",
        "\n"
      ]
    },
    {
      "cell_type": "markdown",
      "metadata": {
        "id": "lKBA79C_LuX1",
        "colab_type": "text"
      },
      "source": [
        "### Palabras reservadas def y return"
      ]
    },
    {
      "cell_type": "markdown",
      "metadata": {
        "id": "9W0ehBGLLAgP",
        "colab_type": "text"
      },
      "source": [
        "Las funciones en Python, inician con la palabra reservada **def**, seguido por el nombre de la función, y entre paréntesis uno o más argumentos. Mietras que la palabra **return** devuelve el resultado de la función. De manera general una función se inicia con la palabra **def** y finalizar con la palabra **return**."
      ]
    },
    {
      "cell_type": "markdown",
      "metadata": {
        "id": "CJI2HK13L8tZ",
        "colab_type": "text"
      },
      "source": [
        "![texto alternativo](http://swcarpentry.github.io/python-novice-inflammation/fig/python-function.svg)"
      ]
    },
    {
      "cell_type": "code",
      "metadata": {
        "id": "89IRHeaJsmfp",
        "colab_type": "code",
        "colab": {}
      },
      "source": [
        "def suma(a, b):\n",
        "    s = a + b\n",
        "    return s"
      ],
      "execution_count": 0,
      "outputs": []
    },
    {
      "cell_type": "code",
      "metadata": {
        "id": "MlSVr2D5tYzZ",
        "colab_type": "code",
        "outputId": "47a2eded-85a3-44d8-a8b8-6250008a5abd",
        "colab": {
          "base_uri": "https://localhost:8080/",
          "height": 34
        }
      },
      "source": [
        "suma(4,6)"
      ],
      "execution_count": 0,
      "outputs": [
        {
          "output_type": "execute_result",
          "data": {
            "text/plain": [
              "10"
            ]
          },
          "metadata": {
            "tags": []
          },
          "execution_count": 7
        }
      ]
    },
    {
      "cell_type": "code",
      "metadata": {
        "id": "dPUPTmK3tYto",
        "colab_type": "code",
        "colab": {}
      },
      "source": [
        "def resta(a,b):\n",
        "  c= a - b\n",
        "  return c"
      ],
      "execution_count": 0,
      "outputs": []
    },
    {
      "cell_type": "code",
      "metadata": {
        "id": "xuZU-xXZti6h",
        "colab_type": "code",
        "outputId": "ea31a864-8865-47ed-9d91-5b073420861d",
        "colab": {
          "base_uri": "https://localhost:8080/",
          "height": 34
        }
      },
      "source": [
        "resta(8,7)"
      ],
      "execution_count": 0,
      "outputs": [
        {
          "output_type": "execute_result",
          "data": {
            "text/plain": [
              "1"
            ]
          },
          "metadata": {
            "tags": []
          },
          "execution_count": 14
        }
      ]
    },
    {
      "cell_type": "code",
      "metadata": {
        "id": "5mvV9guiL-fx",
        "colab_type": "code",
        "outputId": "8b8be166-dade-4945-9359-8d9e7aa5cf52",
        "colab": {
          "base_uri": "https://localhost:8080/",
          "height": 50
        }
      },
      "source": [
        "def suma(a,b):\n",
        "    s = a+b\n",
        "    return s\n",
        "    \n",
        "\n",
        "c = suma(3,5)\n",
        "print(\"c = \", c)\n",
        "\n",
        "d = suma(33,-14)\n",
        "print(\"d = \", d)"
      ],
      "execution_count": 0,
      "outputs": [
        {
          "output_type": "stream",
          "text": [
            "c =  8\n",
            "d =  19\n"
          ],
          "name": "stdout"
        }
      ]
    },
    {
      "cell_type": "code",
      "metadata": {
        "id": "gBixIK2YuDXA",
        "colab_type": "code",
        "outputId": "ca921b7d-4773-4de5-970a-39fc4e049de3",
        "colab": {
          "base_uri": "https://localhost:8080/",
          "height": 34
        }
      },
      "source": [
        "#6. ¿Dado el siguiente codigo, cuel es el resultado?\n",
        "name = \"james\"\n",
        "if not name.startswith(\"j\"):\n",
        "  print(\"Hello\")\n",
        "else:\n",
        "  print(\"World\")"
      ],
      "execution_count": 0,
      "outputs": [
        {
          "output_type": "stream",
          "text": [
            "World\n"
          ],
          "name": "stdout"
        }
      ]
    },
    {
      "cell_type": "code",
      "metadata": {
        "id": "j3o4o67Juhyo",
        "colab_type": "code",
        "colab": {}
      },
      "source": [
        "# funcion para e area de un rectangulo\n",
        "def area(a,b):\n",
        "  v = a*b\n",
        "  print(\"El área del rectángulo es {}\".format(v))\n",
        "  return v"
      ],
      "execution_count": 0,
      "outputs": []
    },
    {
      "cell_type": "code",
      "metadata": {
        "id": "3NA5RhOJvC5a",
        "colab_type": "code",
        "outputId": "f6e72ef9-3428-4a0a-a3c7-aed891731954",
        "colab": {
          "base_uri": "https://localhost:8080/",
          "height": 50
        }
      },
      "source": [
        "area(8,5)"
      ],
      "execution_count": 0,
      "outputs": [
        {
          "output_type": "stream",
          "text": [
            "El área del rectángulo es 40\n"
          ],
          "name": "stdout"
        },
        {
          "output_type": "execute_result",
          "data": {
            "text/plain": [
              "40"
            ]
          },
          "metadata": {
            "tags": []
          },
          "execution_count": 33
        }
      ]
    },
    {
      "cell_type": "code",
      "metadata": {
        "id": "oKx37z9DvOOf",
        "colab_type": "code",
        "colab": {}
      },
      "source": [
        "\"librerias\"\n",
        "#1. os:\n",
        "#2. sys:\n",
        "#3. math: funciones matematicas \n",
        "#4. json:"
      ],
      "execution_count": 0,
      "outputs": []
    },
    {
      "cell_type": "code",
      "metadata": {
        "id": "H1rQYc3_vg73",
        "colab_type": "code",
        "colab": {}
      },
      "source": [
        "import math\n",
        "\n",
        "#def area_circulo: para funciones\n",
        "#class FuncionArea(): para clases\n",
        "\n",
        "def area_circulo(r):\n",
        "  c= (r**2)*math.pi\n",
        "  return c"
      ],
      "execution_count": 0,
      "outputs": []
    },
    {
      "cell_type": "code",
      "metadata": {
        "id": "cCFsjfJ9wRfX",
        "colab_type": "code",
        "outputId": "6fd0c3c0-bacb-48a1-e2bd-ada8b273c18d",
        "colab": {
          "base_uri": "https://localhost:8080/",
          "height": 34
        }
      },
      "source": [
        "area_circulo(1)"
      ],
      "execution_count": 0,
      "outputs": [
        {
          "output_type": "execute_result",
          "data": {
            "text/plain": [
              "3.141592653589793"
            ]
          },
          "metadata": {
            "tags": []
          },
          "execution_count": 29
        }
      ]
    },
    {
      "cell_type": "code",
      "metadata": {
        "id": "TFXKLQI-xEWP",
        "colab_type": "code",
        "colab": {}
      },
      "source": [
        "def negativos(lista):\n",
        "  \n",
        "  for i in lista:\n",
        "    if i > 0:\n",
        "       print(\"%s es positivo\" % i)\n",
        "    elif i == 0:\n",
        "       print(\"%s es cero\" % i)\n",
        "    \n",
        "    else:\n",
        "       print(\"%s es negativo\" % i)\n",
        "     "
      ],
      "execution_count": 0,
      "outputs": []
    },
    {
      "cell_type": "code",
      "metadata": {
        "id": "hX7Q5MTTwdfm",
        "colab_type": "code",
        "outputId": "d631304d-a650-42e6-83c3-06d178432a5d",
        "colab": {
          "base_uri": "https://localhost:8080/",
          "height": 84
        }
      },
      "source": [
        "negativos([0,2,4,6])"
      ],
      "execution_count": 0,
      "outputs": [
        {
          "output_type": "stream",
          "text": [
            "0 es cero\n",
            "2 es positivo\n",
            "4 es positivo\n",
            "6 es positivo\n"
          ],
          "name": "stdout"
        }
      ]
    },
    {
      "cell_type": "code",
      "metadata": {
        "id": "boEWz5d6ywtW",
        "colab_type": "code",
        "colab": {}
      },
      "source": [
        "def volumen_circulo(r):\n",
        "  c = (3/4)*(r**3)*math.pi\n",
        "  return c"
      ],
      "execution_count": 0,
      "outputs": []
    },
    {
      "cell_type": "code",
      "metadata": {
        "id": "Ae72gtZjzAYc",
        "colab_type": "code",
        "outputId": "972c8c30-8099-491e-d151-f8a89a7eec3c",
        "colab": {
          "base_uri": "https://localhost:8080/",
          "height": 34
        }
      },
      "source": [
        "volumen_circulo(1)"
      ],
      "execution_count": 0,
      "outputs": [
        {
          "output_type": "execute_result",
          "data": {
            "text/plain": [
              "2.356194490192345"
            ]
          },
          "metadata": {
            "tags": []
          },
          "execution_count": 50
        }
      ]
    },
    {
      "cell_type": "code",
      "metadata": {
        "id": "26Dz_YUnzWJ8",
        "colab_type": "code",
        "colab": {}
      },
      "source": [
        "def negativos(**kwargs):\n",
        "  print(kwargs)"
      ],
      "execution_count": 0,
      "outputs": []
    },
    {
      "cell_type": "code",
      "metadata": {
        "id": "4PJUd-Yv0Hju",
        "colab_type": "code",
        "colab": {}
      },
      "source": [
        "# Proemdio de una lista:\n",
        "def media(n):\n",
        "  c = sum(n)/len(n)\n",
        "  return c"
      ],
      "execution_count": 0,
      "outputs": []
    },
    {
      "cell_type": "code",
      "metadata": {
        "id": "pItrC8PGzOVk",
        "colab_type": "code",
        "outputId": "7a717bef-9fd4-4622-82f5-0d579099db4f",
        "colab": {
          "base_uri": "https://localhost:8080/",
          "height": 34
        }
      },
      "source": [
        "media([5,52,5])"
      ],
      "execution_count": 0,
      "outputs": [
        {
          "output_type": "execute_result",
          "data": {
            "text/plain": [
              "20.666666666666668"
            ]
          },
          "metadata": {
            "tags": []
          },
          "execution_count": 102
        }
      ]
    },
    {
      "cell_type": "code",
      "metadata": {
        "id": "X6RaVS9Q2jHS",
        "colab_type": "code",
        "colab": {}
      },
      "source": [
        "#calcular la desviacion estandar:\n",
        "a = 0\n",
        "def sd(lista):\n",
        "  global a\n",
        "  for i in lista:\n",
        "    a += (i - media(lista))**2\n",
        "  sumat =(a/len(lista))**0.5\n",
        "  return sumat"
      ],
      "execution_count": 0,
      "outputs": []
    },
    {
      "cell_type": "code",
      "metadata": {
        "id": "-ld_AxQ86JjI",
        "colab_type": "code",
        "outputId": "90e083cc-a05a-4263-c547-d0284ec01808",
        "colab": {
          "base_uri": "https://localhost:8080/",
          "height": 34
        }
      },
      "source": [
        "sd([7,5,2])"
      ],
      "execution_count": 0,
      "outputs": [
        {
          "output_type": "execute_result",
          "data": {
            "text/plain": [
              "2.0548046676563256"
            ]
          },
          "metadata": {
            "tags": []
          },
          "execution_count": 175
        }
      ]
    },
    {
      "cell_type": "code",
      "metadata": {
        "id": "UbbqpLeo_lGs",
        "colab_type": "code",
        "colab": {}
      },
      "source": [
        "#ecuacion de la recta\n",
        "#primera forma\n",
        "def pendiente(x,y):\n",
        "  a = y[1]-y[0]/x[1]-x[0]\n",
        "  return a\n",
        "\n",
        "def distancia(a,b):\n",
        "  z = ((a[1]-a[0])**2+(b[1]-b[0])**2)**0.5\n",
        "  return z"
      ],
      "execution_count": 0,
      "outputs": []
    },
    {
      "cell_type": "code",
      "metadata": {
        "id": "Ka937YQ7Aheh",
        "colab_type": "code",
        "outputId": "0b330f34-d6c8-4522-f1bb-bd4992eadd11",
        "colab": {
          "base_uri": "https://localhost:8080/",
          "height": 34
        }
      },
      "source": [
        "pendiente([1,1],[2,1])"
      ],
      "execution_count": 0,
      "outputs": [
        {
          "output_type": "execute_result",
          "data": {
            "text/plain": [
              "1.0"
            ]
          },
          "metadata": {
            "tags": []
          },
          "execution_count": 172
        }
      ]
    },
    {
      "cell_type": "code",
      "metadata": {
        "id": "HxoXg9ZvBeUL",
        "colab_type": "code",
        "outputId": "9f1e16ec-13a7-4ef0-a8c7-e8bdefbdb5fd",
        "colab": {
          "base_uri": "https://localhost:8080/",
          "height": 34
        }
      },
      "source": [
        "distancia([1,1],[2,1])"
      ],
      "execution_count": 0,
      "outputs": [
        {
          "output_type": "execute_result",
          "data": {
            "text/plain": [
              "1.0"
            ]
          },
          "metadata": {
            "tags": []
          },
          "execution_count": 122
        }
      ]
    },
    {
      "cell_type": "code",
      "metadata": {
        "id": "_pawxbA7EW7h",
        "colab_type": "code",
        "colab": {}
      },
      "source": [
        "#factorial de un numero\n",
        "#primera forma\n",
        "def factorial(n):\n",
        "  q = 1\n",
        "  for i in range(1,n+1):\n",
        "    q = q*i\n",
        "  return q"
      ],
      "execution_count": 0,
      "outputs": []
    },
    {
      "cell_type": "code",
      "metadata": {
        "id": "3EHXOCMjKsxM",
        "colab_type": "code",
        "colab": {}
      },
      "source": [
        "#segunda manera\n",
        "def factorial (numero):\n",
        "  n = numero - 1\n",
        "  if n > 0:\n",
        "    f = factorial(n)*numero\n",
        "  else:\n",
        "    f = 1\n",
        "  return f "
      ],
      "execution_count": 0,
      "outputs": []
    },
    {
      "cell_type": "code",
      "metadata": {
        "id": "wxP-aNw9KtuC",
        "colab_type": "code",
        "outputId": "14bf7a5d-965e-48c5-9c92-1498a28f8b4c",
        "colab": {
          "base_uri": "https://localhost:8080/",
          "height": 34
        }
      },
      "source": [
        "factorial(5)"
      ],
      "execution_count": 0,
      "outputs": [
        {
          "output_type": "execute_result",
          "data": {
            "text/plain": [
              "120"
            ]
          },
          "metadata": {
            "tags": []
          },
          "execution_count": 181
        }
      ]
    },
    {
      "cell_type": "code",
      "metadata": {
        "id": "X3qnr4tnF1SH",
        "colab_type": "code",
        "outputId": "bd240376-4f09-4130-c116-0dc49d73dde9",
        "colab": {
          "base_uri": "https://localhost:8080/",
          "height": 34
        }
      },
      "source": [
        "factorial(5)"
      ],
      "execution_count": 0,
      "outputs": [
        {
          "output_type": "execute_result",
          "data": {
            "text/plain": [
              "120"
            ]
          },
          "metadata": {
            "tags": []
          },
          "execution_count": 182
        }
      ]
    },
    {
      "cell_type": "code",
      "metadata": {
        "id": "onwJhdn5-Y0V",
        "colab_type": "code",
        "colab": {}
      },
      "source": [
        "#z = 0\n",
        "z += 5\n",
        "z = z + 5\n",
        "print(z)"
      ],
      "execution_count": 0,
      "outputs": []
    },
    {
      "cell_type": "markdown",
      "metadata": {
        "id": "DMgiJBNjMAFG",
        "colab_type": "text"
      },
      "source": [
        "En el siguiente caso, la función **calcula_media_desviación(*ss)** contiene un sólo argimento **(*args)**, lo cual significa que en dicha función se puede ingresar una cantidad variable de argumentos y el intérprete de Python creará una tupla con el número de variables numéricas siguiendo el orden declarado de manera consecutiva."
      ]
    },
    {
      "cell_type": "code",
      "metadata": {
        "id": "3505iJLVMOxH",
        "colab_type": "code",
        "colab": {}
      },
      "source": [
        "def calcula_media_desviacion(*ss):\n",
        "    total = 0\n",
        "    print(\"ss = \", ss)\n",
        "    # calcula media\n",
        "    for i in ss:\n",
        "        total += i\n",
        "    media = total / len(ss)\n",
        "    \n",
        "    #calcula std\n",
        "    total = 0\n",
        "    for i in ss:\n",
        "        total += (i - media) ** 2\n",
        "    desviacion = (total / len(ss)) ** 0.5\n",
        "    return media, desviacion\n",
        "\n",
        "a, b, c, d,e = 3, 5, 10, 12,13\n",
        "media, desviacion_tipica = calcula_media_desviacion(a, b, c, d,e)\n",
        "print(f\"Datos: {a} {b} {c} {d}\")\n",
        "print(f\"Media: {media}\")\n",
        "print(f\"Desviación típica: {desviacion_tipica}\")\n",
        "print(\"Programa terminado\")"
      ],
      "execution_count": 0,
      "outputs": []
    },
    {
      "cell_type": "code",
      "metadata": {
        "id": "-2kkYpteMQdy",
        "colab_type": "code",
        "colab": {}
      },
      "source": [
        "def c2kf(C,convert2):\n",
        "    if convert2==\"K\":\n",
        "        K = C + 273\n",
        "        return K\n",
        "    elif convert2==\"F\":\n",
        "        F = (9/5)*C +32\n",
        "        return F\n",
        "\n",
        "K = c2kf(10,\"K\")   \n",
        "print(\"10 °C --> \",K, \"K\")\n",
        "\n",
        "F = c2kf(10,\"F\")   \n",
        "print(\"{0}°C equivale a {1} F\".format(10, F))"
      ],
      "execution_count": 0,
      "outputs": []
    },
    {
      "cell_type": "code",
      "metadata": {
        "id": "cSCOyQyUMSS8",
        "colab_type": "code",
        "colab": {}
      },
      "source": [
        "def solEq2(a,b,c):\n",
        "    # Determinar el discriminante usando la ecuación (2)\n",
        "    discriminante = b**2 - 4*a*c\n",
        "    print(\"discriminante =\", discriminante)\n",
        "    \n",
        "    # Determinando las solucioines x1 y x2\n",
        "    import math \n",
        "    if discriminante >0:\n",
        "        x1 = (-b + math.sqrt(discriminante) )/(2*a)\n",
        "        x2 = (-b - math.sqrt(discriminante) )/(2*a)\n",
        "        \n",
        "        print(\"x1 = \", x1)\n",
        "        print(\"x2 = \", x2)\n",
        "        \n",
        "        print(\"\\n\")\n",
        "        print(a,\"(\",x1,\"**2) +\",  b,\"(\",x1,\") +\", c, \" = \", a*x1**2 + b*x1 + c)\n",
        "        print(a,\"(\",x2,\"**2) +\",  b,\"(\",x2,\") +\", c, \" = \", a*x2**2 + b*x2 + c)\n",
        "        return x1,x2\n",
        "    \n",
        "    elif discriminante ==0:\n",
        "        x1 = (-b + math.sqrt(discriminante) )/(2*a)\n",
        "        x2 = x1\n",
        "        print(\"x1,2= \", x2)\n",
        "        print(\"\\n\")\n",
        "        print(a,\"(\",x1,\"**2) +\",  b,\"(\",x1,\") +\", c, \" = \", a*x1**2 + b*x1 + c)\n",
        "        print(a,\"(\",x2,\"**2) +\",  b,\"(\",x2,\") +\", c, \" = \", a*x2**2 + b*x2 + c)\n",
        "        return x1,x2\n",
        "    else:\n",
        "        print(\"La ecuación no tiene soluciones reales\")\n",
        "        return 0,0\n",
        "        \n",
        "        \n",
        "    \n",
        "\n",
        "s1,s2 = solEq2(3,2,1)\n",
        "s1,s2 = solEq2(3,2,1)"
      ],
      "execution_count": 0,
      "outputs": []
    },
    {
      "cell_type": "markdown",
      "metadata": {
        "id": "fCfMKXR_MUsf",
        "colab_type": "text"
      },
      "source": [
        "Para crear una lista de números iniciando en un determinado valor y finalizando en otro valor, con un incremento determinado, similar a la función **range**. Definiremos la función **makeList** con tres argumentos, de la siguiente forma:\n",
        "\n",
        "**def makeList**(inicio, fin, inc)"
      ]
    },
    {
      "cell_type": "code",
      "metadata": {
        "id": "hxfsg7LJMajE",
        "colab_type": "code",
        "colab": {}
      },
      "source": [
        "def makeList(inicio, fin, inc):\n",
        "    \"\"\"\n",
        "    Genera una lista de valores iniciando en [inicio] hasta [fin], con un incremento [inc]\n",
        "    \n",
        "    \"\"\"\n",
        "    valor= inicio\n",
        "    lista = []\n",
        "    while valor<=fin:\n",
        "        lista.append(valor)\n",
        "        valor = valor + inc\n",
        "    return lista\n",
        "lats = makeList(-23,10,0.5)\n",
        "print(\"lats = \", lats)\n",
        "\n",
        "lons = makeList(-90,-65,0.5)\n",
        "print(\"\\nlons = \", lons)\n",
        "print(\"\\n Documenta\", makeList.__doc__)"
      ],
      "execution_count": 0,
      "outputs": []
    },
    {
      "cell_type": "markdown",
      "metadata": {
        "id": "jURfV984MmAL",
        "colab_type": "text"
      },
      "source": [
        "### Doc Strings"
      ]
    },
    {
      "cell_type": "markdown",
      "metadata": {
        "id": "kyiVfVr6MoIk",
        "colab_type": "text"
      },
      "source": [
        "Hay una convención en python para introducir documentación. La documentación es conocido como un doc **string**, el cual puede contener una pequeña descripción del propósito de la función, explicando los diferentes argumentos y el valor de retorno o resultado de la función. En una sesión interactiva desde el shell de Python **IPython** es común ilustrar la forma adecuada de usar el código. Usualmente el **Doc strings** va entre triple comilla \"\"\", el cual permite escribir varias líneas a manera de comentario.\n",
        "\n"
      ]
    },
    {
      "cell_type": "code",
      "metadata": {
        "id": "EDsy04PLMuJC",
        "colab_type": "code",
        "colab": {}
      },
      "source": [
        "def eqRecta(x0, y0, x1, y1):\n",
        "    \"\"\"\n",
        "    Calcula la pendiente (a) y el intersecto (b) de una recta a partir de dos\n",
        "    pustos (x0, y0) y (x1, y1) que pertenecen a dicha recta.\n",
        "         \n",
        "    x0, y0: Un punto sobre la recta (floats).\n",
        "    x1, y1: Otro punto sobre la recta (floats).\n",
        "    retorna: los coeficientes  a, b (floats) para la recta (y=a*x+b).\n",
        "    \"\"\"\n",
        "    a = (y1 - y0)/float(x1 - x0)\n",
        "    b = y0 - a*x0\n",
        "    return a, b"
      ],
      "execution_count": 0,
      "outputs": []
    },
    {
      "cell_type": "code",
      "metadata": {
        "id": "qmaKn84oMv__",
        "colab_type": "code",
        "colab": {}
      },
      "source": [
        "print(eqRecta.__doc__)"
      ],
      "execution_count": 0,
      "outputs": []
    },
    {
      "cell_type": "code",
      "metadata": {
        "id": "WDfQGieWNIhV",
        "colab_type": "code",
        "colab": {}
      },
      "source": [
        "\n",
        "def c2kf(CC):\n",
        "    i=0\n",
        "    KK=[]; FF=[]\n",
        "    while i < len(CC):\n",
        "        C = CC[i]\n",
        "        K = CC[i] + 273\n",
        "        F = (9.0/5)*C + 32\n",
        "        KK.append(K)\n",
        "        FF.append(F)\n",
        "        #print('%3d %5d %5.1f' %(C, K, F))\n",
        "        i += 1\n",
        "    return KK, FF\n",
        "\n",
        "to = time.clock()\n",
        "CC = [-20, -15, -10, -5, 0, 5, 10, 15, 20, 25, 30, 35, 40]\n",
        "\n",
        "kk, ff = c2kf(CC)\n",
        "print(kk)\n",
        "print(ff)"
      ],
      "execution_count": 0,
      "outputs": []
    },
    {
      "cell_type": "code",
      "metadata": {
        "id": "CcLplWvQNPds",
        "colab_type": "code",
        "colab": {}
      },
      "source": [
        "def area(b,h=None):\n",
        "    \n",
        "    if h is not None:\n",
        "        a=b*h\n",
        "    else:\n",
        "        a=b**2\n",
        "    return a\n",
        "areaC = area(3)\n",
        "print(\"areaC = \", areaC)\n",
        "\n",
        "areaR = area(3,4)\n",
        "print(\"areaR = \", areaR)"
      ],
      "execution_count": 0,
      "outputs": []
    },
    {
      "cell_type": "markdown",
      "metadata": {
        "id": "4ZTOnA9mNSkX",
        "colab_type": "text"
      },
      "source": [
        "### Entradas y salidas de una función"
      ]
    },
    {
      "cell_type": "markdown",
      "metadata": {
        "id": "aW9tbRTGNTlx",
        "colab_type": "text"
      },
      "source": [
        "Es una convención en Python que los argumentos de una función representan los datos de entrada, mientras que el valor del objeto que retorna, representa el dato de salida de la función.\n",
        "\n",
        "**Ejemplo:**\n",
        "\n",
        "Escribir un programa que calcule la derivada de una funcion **f(x)**\n",
        "\n",
        "![texto alternativo](https://calculointegralusco.files.wordpress.com/2017/07/interpretacion-geometrica-de-la-derivada.png?w=840)"
      ]
    },
    {
      "cell_type": "code",
      "metadata": {
        "id": "Xaw693HXNeS5",
        "colab_type": "code",
        "colab": {}
      },
      "source": [
        "def diff2nd(f, x, h=1E-6):\n",
        "    r = (f(x+h) - f(x))/float(h)\n",
        "    return r\n",
        "\n",
        "def y(x):\n",
        "    return x**2\n",
        "\n",
        "x = 2\n",
        "dy = diff2nd(y,x)\n",
        "print(dy)"
      ],
      "execution_count": 0,
      "outputs": []
    },
    {
      "cell_type": "markdown",
      "metadata": {
        "id": "p7L0GP3uODLv",
        "colab_type": "text"
      },
      "source": [
        "## Módulos y paquetes"
      ]
    },
    {
      "cell_type": "markdown",
      "metadata": {
        "id": "P3whQKGgOHuL",
        "colab_type": "text"
      },
      "source": [
        "Un módulo es un archivo de Python cuyos objetos (funciones, clases, excepciones, etc.) pueden ser accedidos desde otro archivo. Se trata simplemente de una forma de organizar grandes códigos.\n",
        "\n",
        "Consideremos, por ejemplo, un archivo aritmetica.py que contenga las siguientes definiciones."
      ]
    },
    {
      "cell_type": "markdown",
      "metadata": {
        "id": "h9FgAFraOMMm",
        "colab_type": "text"
      },
      "source": [
        "### Paquetes\n",
        "\n",
        "Un paquete es una carpeta que contiene varios módulos. Siguiendo el ejemplo anterior, podemos diseñar un paquete matematica creando una carpeta con la siguiente estructura.\n",
        "\n",
        "\n",
        "Refrescaremos algunos conceptos básicos de geometría:\n",
        "\n",
        "$C = 2\\pi r$\n",
        "\n",
        "\n",
        "$A = \\pi r^2$"
      ]
    },
    {
      "cell_type": "code",
      "metadata": {
        "id": "vJDihD3wORij",
        "colab_type": "code",
        "colab": {}
      },
      "source": [
        "# Definiendo el radio\n",
        "r = 0.43\n",
        "\n",
        "# Importando el paquete math\n",
        "import math\n",
        "\n",
        "# Calculando la circunferencia\n",
        "C = 2*math.pi*r\n",
        "\n",
        "# Calculando el área\n",
        "A = math.pi*r**2\n",
        "\n",
        "# Build printout\n",
        "print(\"Circunferencia: \" + str(C))\n",
        "print(\"Area: \" + str(A))"
      ],
      "execution_count": 0,
      "outputs": []
    }
  ]
}